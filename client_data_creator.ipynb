{
 "cells": [
  {
   "cell_type": "code",
   "execution_count": 1,
   "metadata": {},
   "outputs": [],
   "source": [
    "import os\n",
    "import glob\n",
    "import shutil\n",
    "import numpy as np\n",
    "\n",
    "import utils"
   ]
  },
  {
   "cell_type": "code",
   "execution_count": 2,
   "metadata": {},
   "outputs": [
    {
     "name": "stdout",
     "output_type": "stream",
     "text": [
      "['Apple___Apple_scab', 'Apple___Black_rot', 'Apple___healthy', 'Corn___Common_rust', 'Corn___Northern_Leaf_Blight', 'Corn___healthy', 'Grape___Black_rot', 'Grape___Esca_(Black_Measles)', 'Grape___healthy', 'Tomato___Early_blight', 'Tomato___Septoria_leaf_spot', 'Tomato___healthy']\n"
     ]
    }
   ],
   "source": [
    "data_dir = './data/'\n",
    "train_dir = os.path.join(data_dir, 'train_sub')\n",
    "class_labels = os.listdir(train_dir)\n",
    "class_labels.sort()\n",
    "print(class_labels)"
   ]
  },
  {
   "cell_type": "code",
   "execution_count": 3,
   "metadata": {},
   "outputs": [
    {
     "name": "stdout",
     "output_type": "stream",
     "text": [
      "Apple___Apple_scab : 504\n",
      "Apple___Black_rot : 496\n",
      "Apple___healthy : 1316\n",
      "Corn___Common_rust : 953\n",
      "Corn___Northern_Leaf_Blight : 788\n",
      "Corn___healthy : 929\n",
      "Grape___Black_rot : 944\n",
      "Grape___Esca_(Black_Measles) : 1106\n",
      "Grape___healthy : 338\n",
      "Tomato___Early_blight : 800\n",
      "Tomato___Septoria_leaf_spot : 1416\n",
      "Tomato___healthy : 1272\n"
     ]
    }
   ],
   "source": [
    "# Read image list into a dictionary for each class.\n",
    "train_img_dict = {}\n",
    "for class_label in class_labels:\n",
    "    class_folder = os.path.join(train_dir, class_label)\n",
    "    img_list = glob.glob(os.path.join(class_folder, '*.JPG')) + glob.glob(os.path.join(class_folder, '*.jpg'))      \n",
    "    train_img_dict[class_label] = img_list\n",
    "    print(class_label, ':', len(img_list))"
   ]
  },
  {
   "cell_type": "markdown",
   "metadata": {},
   "source": [
    "### Create client data."
   ]
  },
  {
   "cell_type": "code",
   "execution_count": 4,
   "metadata": {},
   "outputs": [],
   "source": [
    "# Create client data directory.\n",
    "client_data_dir = os.path.join(data_dir, 'client_data')"
   ]
  },
  {
   "cell_type": "code",
   "execution_count": 5,
   "metadata": {},
   "outputs": [],
   "source": [
    "grouped_class_labels_list = [\n",
    "    ('Apple___Apple_scab', 'Apple___Black_rot', 'Apple___healthy'),\n",
    "    ('Corn___Common_rust', 'Corn___Northern_Leaf_Blight', 'Corn___healthy'),\n",
    "    ('Grape___Black_rot', 'Grape___Esca_(Black_Measles)', 'Grape___healthy'),\n",
    "    ('Tomato___Early_blight', 'Tomato___Septoria_leaf_spot', 'Tomato___healthy')\n",
    "]\n",
    "\n",
    "start_end_pairs = [\n",
    "    (0, 2),\n",
    "    (2, 4),\n",
    "    (4, 6),\n",
    "    (6, 8),\n",
    "]\n",
    "\n",
    "for (start, end), grouped_class_labels in zip(start_end_pairs, grouped_class_labels_list):\n",
    "    # For clients.\n",
    "    for client_id in range(start, end):\n",
    "        # Create data directory for each client.\n",
    "        current_client_data_dir = os.path.join(client_data_dir, 'client_' + str(client_id))\n",
    "        img_count_dict = {}\n",
    "        for class_label in grouped_class_labels:            \n",
    "            class_dir = os.path.join(current_client_data_dir, class_label)\n",
    "            os.makedirs(class_dir, exist_ok=True)\n",
    "            num_img = np.random.randint(100, 200)\n",
    "            for img_idx in range(num_img):\n",
    "                img_path = train_img_dict[class_label].pop()\n",
    "                shutil.copy(img_path, class_dir)\n",
    "            img_count_dict[class_label] = num_img\n",
    "        \n",
    "        # Save data info.     \n",
    "        note_file = os.path.join(current_client_data_dir, 'notes.txt')\n",
    "        txt = ''\n",
    "        for class_label in grouped_class_labels:\n",
    "            buff = '{:30}: {}\\n'.format(class_label, img_count_dict[class_label])\n",
    "            txt += buff\n",
    "        utils.save_notes(note_file, txt)"
   ]
  },
  {
   "cell_type": "markdown",
   "metadata": {},
   "source": [
    "### Centralize client data."
   ]
  },
  {
   "cell_type": "code",
   "execution_count": 6,
   "metadata": {},
   "outputs": [],
   "source": [
    "centralized_client_data_dir = os.path.join(data_dir, 'centralized_client_data')\n",
    "os.makedirs(centralized_client_data_dir, exist_ok=True)"
   ]
  },
  {
   "cell_type": "code",
   "execution_count": 7,
   "metadata": {},
   "outputs": [
    {
     "name": "stdout",
     "output_type": "stream",
     "text": [
      "len(class_labels): 12\n",
      "['Apple___Apple_scab', 'Apple___Black_rot', 'Apple___healthy', 'Corn___Common_rust', 'Corn___Northern_Leaf_Blight', 'Corn___healthy', 'Grape___Black_rot', 'Grape___Esca_(Black_Measles)', 'Grape___healthy', 'Tomato___Early_blight', 'Tomato___Septoria_leaf_spot', 'Tomato___healthy']\n"
     ]
    }
   ],
   "source": [
    "sample_dir = train_dir\n",
    "\n",
    "class_labels = list()\n",
    "for item in os.listdir(sample_dir):\n",
    "    if os.path.isdir(os.path.join(sample_dir, item)):\n",
    "        class_labels.append(item)\n",
    "\n",
    "class_labels.sort()\n",
    "print('len(class_labels):', len(class_labels))\n",
    "print(class_labels)"
   ]
  },
  {
   "cell_type": "code",
   "execution_count": 8,
   "metadata": {},
   "outputs": [],
   "source": [
    "num_clients = 8"
   ]
  },
  {
   "cell_type": "code",
   "execution_count": 9,
   "metadata": {},
   "outputs": [],
   "source": [
    "for class_label in class_labels:\n",
    "    \n",
    "    cen_class_dir = os.path.join(centralized_client_data_dir, class_label)\n",
    "    os.makedirs(cen_class_dir, exist_ok=True)\n",
    "    \n",
    "    for i in range(num_clients):\n",
    "        current_client_data_dir = os.path.join(client_data_dir, 'client_' + str(i))\n",
    "        class_dir = os.path.join(current_client_data_dir, class_label)\n",
    "        img_list = glob.glob(os.path.join(class_dir, '*.JPG')) + glob.glob(os.path.join(class_dir, '*.jpg')) \n",
    "        for idx, img in enumerate(img_list):\n",
    "            shutil.copy(img, os.path.join(cen_class_dir, 'c_{:02d}_{:02d}.JPG'.format(i, idx)))"
   ]
  },
  {
   "cell_type": "code",
   "execution_count": null,
   "metadata": {},
   "outputs": [],
   "source": []
  }
 ],
 "metadata": {
  "kernelspec": {
   "display_name": "Python 3 (ipykernel)",
   "language": "python",
   "name": "python3"
  },
  "language_info": {
   "codemirror_mode": {
    "name": "ipython",
    "version": 3
   },
   "file_extension": ".py",
   "mimetype": "text/x-python",
   "name": "python",
   "nbconvert_exporter": "python",
   "pygments_lexer": "ipython3",
   "version": "3.9.7"
  },
  "varInspector": {
   "cols": {
    "lenName": 16,
    "lenType": 16,
    "lenVar": 40
   },
   "kernels_config": {
    "python": {
     "delete_cmd_postfix": "",
     "delete_cmd_prefix": "del ",
     "library": "var_list.py",
     "varRefreshCmd": "print(var_dic_list())"
    },
    "r": {
     "delete_cmd_postfix": ") ",
     "delete_cmd_prefix": "rm(",
     "library": "var_list.r",
     "varRefreshCmd": "cat(var_dic_list()) "
    }
   },
   "types_to_exclude": [
    "module",
    "function",
    "builtin_function_or_method",
    "instance",
    "_Feature"
   ],
   "window_display": false
  }
 },
 "nbformat": 4,
 "nbformat_minor": 4
}
